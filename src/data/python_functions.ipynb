{
 "cells": [
  {
   "cell_type": "code",
   "execution_count": 1,
   "metadata": {},
   "outputs": [],
   "source": [
    "import json\n",
    "import pandas as pd\n",
    "with open('elevated_miami_data.json', 'r') as f:\n",
    "    har_data = json.load(f)"
   ]
  },
  {
   "cell_type": "code",
   "execution_count": 2,
   "metadata": {},
   "outputs": [
    {
     "data": {
      "text/plain": [
       "Index(['availability', 'completedTrips', 'estimatedQuote', 'hostId', 'id',\n",
       "       'isAllStarHost', 'isFavoritedBySearcher', 'isNewListing', 'make',\n",
       "       'model', 'rating', 'seoCategory', 'type', 'year', 'avgDailyAmount',\n",
       "       'cityLocation', 'unlimitedMiles'],\n",
       "      dtype='object')"
      ]
     },
     "execution_count": 2,
     "metadata": {},
     "output_type": "execute_result"
    }
   ],
   "source": [
    "rentals = pd.DataFrame(har_data['turo_data']['rental_data'])\n",
    "rentals.keys()"
   ]
  },
  {
   "cell_type": "code",
   "execution_count": 3,
   "metadata": {},
   "outputs": [],
   "source": [
    "keyword = 'avgDailyAmount'\n",
    "\n",
    "def get_pop_set(rentals,keyword):\n",
    "        locations = list(set(rentals.cityLocation))\n",
    "        cities = ['Aventura', 'Biscayne Park', 'Coral Gables', 'Hialeah', 'Miami', 'Miami Beach', 'Miami Gardens', 'Miami Shores', 'North Bay Village', 'North Miami', 'North Miami Beach', 'Opa-locka',\n",
    "                'Cooper City', 'Dania Beach', 'Davie', 'Fort Lauderdale', 'Hallandale Beach', 'Hollywood', 'Oakland Park', 'Pembroke Pines', 'Plantation', 'Tamarac']\n",
    "\n",
    "        city_rentals = rentals[rentals['cityLocation'].isin(cities)]\n",
    "        group_rentals = city_rentals.groupby(keyword)['rating'].mean().sort_values(ascending=False)\n",
    "        temp_df = pd.DataFrame(group_rentals).reset_index()\n",
    "\n",
    "        for index, item in temp_df.iterrows():\n",
    "                total_trips = rentals[(rentals[keyword] == item[keyword])]['completedTrips'].sum()\n",
    "                temp_df.loc[index, 'trip_count'] = total_trips\n",
    "        if keyword != 'avgDailyAmount':\n",
    "                for index, item in temp_df.iterrows():\n",
    "                        total_amt = rentals[(rentals[keyword] == item[keyword])]['avgDailyAmount'].sum()\n",
    "                        temp_df.loc[index, 'avgDailyRate'] = total_amt\n",
    "        return temp_df\n"
   ]
  },
  {
   "cell_type": "code",
   "execution_count": 14,
   "metadata": {},
   "outputs": [
    {
     "data": {
      "text/plain": [
       "'Hello from Flask!'"
      ]
     },
     "execution_count": 14,
     "metadata": {},
     "output_type": "execute_result"
    }
   ],
   "source": [
    "import requests\n",
    "\n",
    "requests.get('http://backend-driving.partnastudio.com/').text"
   ]
  },
  {
   "cell_type": "code",
   "execution_count": 15,
   "metadata": {},
   "outputs": [
    {
     "name": "stdout",
     "output_type": "stream",
     "text": [
      "Request successful\n",
      "[{'avgDailyRate': 49.33, 'cityLocation': 'Tamarac', 'rating': 5.0, 'trip_count': 16.0}, {'avgDailyRate': 53.46, 'cityLocation': 'Plantation', 'rating': 5.0, 'trip_count': 36.0}, {'avgDailyRate': 42.03, 'cityLocation': 'Oakland Park', 'rating': 5.0, 'trip_count': 28.0}, {'avgDailyRate': 43.0, 'cityLocation': 'Biscayne Park', 'rating': 5.0, 'trip_count': 47.0}, {'avgDailyRate': 48.51, 'cityLocation': 'North Bay Village', 'rating': 5.0, 'trip_count': 20.0}, {'avgDailyRate': 229.39000000000001, 'cityLocation': 'Fort Lauderdale', 'rating': 4.989575, 'trip_count': 167.0}, {'avgDailyRate': 141.34, 'cityLocation': 'Davie', 'rating': 4.9738, 'trip_count': 322.0}, {'avgDailyRate': 335.25, 'cityLocation': 'Pembroke Pines', 'rating': 4.971916666666666, 'trip_count': 168.0}, {'avgDailyRate': 124.25, 'cityLocation': 'Hallandale Beach', 'rating': 4.9697, 'trip_count': 51.0}, {'avgDailyRate': 48.82, 'cityLocation': 'Cooper City', 'rating': 4.9688, 'trip_count': 41.0}, {'avgDailyRate': 167.85, 'cityLocation': 'Dania Beach', 'rating': 4.966933333333333, 'trip_count': 105.0}, {'avgDailyRate': 94.03, 'cityLocation': 'Miami Shores', 'rating': 4.954549999999999, 'trip_count': 62.0}, {'avgDailyRate': 521.1, 'cityLocation': 'Miami Gardens', 'rating': 4.945491666666666, 'trip_count': 635.0}, {'avgDailyRate': 322.71000000000004, 'cityLocation': 'North Miami', 'rating': 4.938416666666666, 'trip_count': 111.0}, {'avgDailyRate': 671.9799999999999, 'cityLocation': 'Aventura', 'rating': 4.924084615384615, 'trip_count': 344.0}, {'avgDailyRate': 2426.33, 'cityLocation': 'Miami', 'rating': 4.86125, 'trip_count': 1664.0}, {'avgDailyRate': 1773.96, 'cityLocation': 'Hollywood', 'rating': 4.8173441176470595, 'trip_count': 944.0}, {'avgDailyRate': 54.0, 'cityLocation': 'Opa-locka', 'rating': 4.7857, 'trip_count': 14.0}, {'avgDailyRate': 1434.69, 'cityLocation': 'Hialeah', 'rating': 4.588042307692308, 'trip_count': 663.0}, {'avgDailyRate': 387.18, 'cityLocation': 'North Miami Beach', 'rating': 4.268771428571428, 'trip_count': 311.0}, {'avgDailyRate': 34.2, 'cityLocation': 'Coral Gables', 'rating': 0.0, 'trip_count': 0.0}]\n"
     ]
    }
   ],
   "source": [
    "import requests\n",
    "\n",
    "def send_test_request():\n",
    "  url = 'http://backend-driving.partnastudio.com/get_popular_ranking'  # Replace with your actual URL\n",
    "  data = {\n",
    "    \"rentals\":rentals.to_dict(),\n",
    "    \"keyword\": \"cityLocation\"\n",
    "  }\n",
    "\n",
    "  response = requests.post(url, json=data)\n",
    "  if response.status_code == 200:\n",
    "    print(\"Request successful\")\n",
    "    print(response.json())\n",
    "  else:\n",
    "    print(\"Request failed\")\n",
    "    print(response.text)\n",
    "\n",
    "send_test_request()"
   ]
  },
  {
   "cell_type": "code",
   "execution_count": 6,
   "metadata": {},
   "outputs": [
    {
     "data": {
      "text/plain": [
       "Index(['type', 'rating', 'trip_count', 'avgDailyRate'], dtype='object')"
      ]
     },
     "execution_count": 6,
     "metadata": {},
     "output_type": "execute_result"
    }
   ],
   "source": [
    "get_pop_set(rentals,'type').keys()"
   ]
  },
  {
   "cell_type": "code",
   "execution_count": 7,
   "metadata": {},
   "outputs": [
    {
     "data": {
      "text/plain": [
       "dict_keys(['type', 'rating', 'trip_count', 'avgDailyRate'])"
      ]
     },
     "execution_count": 7,
     "metadata": {},
     "output_type": "execute_result"
    }
   ],
   "source": [
    "har_data['turo_data']['rankings']['pop_type'].keys()"
   ]
  },
  {
   "cell_type": "code",
   "execution_count": 8,
   "metadata": {},
   "outputs": [
    {
     "data": {
      "text/plain": [
       "dict_keys(['pop_avgDailyAmount', 'pop_type', 'pop_year', 'pop_make', 'pop_model', 'pop_seoCategory', 'pop_isAllStarHost', 'pop_isNewListing', 'pop_unlimitedMiles', 'pop_cityLocation'])"
      ]
     },
     "execution_count": 8,
     "metadata": {},
     "output_type": "execute_result"
    }
   ],
   "source": [
    "har_data['turo_data']['rankings'].keys()"
   ]
  },
  {
   "cell_type": "code",
   "execution_count": null,
   "metadata": {},
   "outputs": [],
   "source": []
  }
 ],
 "metadata": {
  "kernelspec": {
   "display_name": "Python 3",
   "language": "python",
   "name": "python3"
  },
  "language_info": {
   "codemirror_mode": {
    "name": "ipython",
    "version": 3
   },
   "file_extension": ".py",
   "mimetype": "text/x-python",
   "name": "python",
   "nbconvert_exporter": "python",
   "pygments_lexer": "ipython3",
   "version": "3.11.9"
  }
 },
 "nbformat": 4,
 "nbformat_minor": 2
}
