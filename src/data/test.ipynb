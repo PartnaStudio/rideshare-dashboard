{
 "cells": [
  {
   "cell_type": "code",
   "execution_count": 3,
   "metadata": {},
   "outputs": [
    {
     "name": "stdout",
     "output_type": "stream",
     "text": [
      "Collecting chardet\n",
      "  Downloading chardet-5.2.0-py3-none-any.whl.metadata (3.4 kB)\n",
      "Downloading chardet-5.2.0-py3-none-any.whl (199 kB)\n",
      "   ---------------------------------------- 0.0/199.4 kB ? eta -:--:--\n",
      "   ---------------------------------------- 0.0/199.4 kB ? eta -:--:--\n",
      "   ---------------------------------------- 0.0/199.4 kB ? eta -:--:--\n",
      "   -- ------------------------------------- 10.2/199.4 kB ? eta -:--:--\n",
      "   ------ -------------------------------- 30.7/199.4 kB 262.6 kB/s eta 0:00:01\n",
      "   -------- ------------------------------ 41.0/199.4 kB 279.3 kB/s eta 0:00:01\n",
      "   ------------------ -------------------- 92.2/199.4 kB 476.3 kB/s eta 0:00:01\n",
      "   -------------------------------------  194.6/199.4 kB 841.6 kB/s eta 0:00:01\n",
      "   -------------------------------------- 199.4/199.4 kB 804.9 kB/s eta 0:00:00\n",
      "Installing collected packages: chardet\n",
      "Successfully installed chardet-5.2.0\n"
     ]
    },
    {
     "name": "stderr",
     "output_type": "stream",
     "text": [
      "\n",
      "[notice] A new release of pip is available: 24.0 -> 24.2\n",
      "[notice] To update, run: C:\\Users\\danielsen.j.bernadel\\AppData\\Local\\Microsoft\\WindowsApps\\PythonSoftwareFoundation.Python.3.11_qbz5n2kfra8p0\\python.exe -m pip install --upgrade pip\n"
     ]
    }
   ],
   "source": [
    "!pip install chardet"
   ]
  },
  {
   "cell_type": "code",
   "execution_count": 4,
   "metadata": {},
   "outputs": [],
   "source": [
    "import csv\n",
    "import json\n",
    "import chardet\n",
    "\n",
    "def csv_to_json(csv_file, json_file):\n",
    "    try:\n",
    "        with open(csv_file, 'rb') as rawdata:\n",
    "            result = chardet.detect(rawdata.read(100000))\n",
    "            encoding = result['encoding']\n",
    "    except:\n",
    "        encoding = 'utf-8'  # Default encoding\n",
    "\n",
    "    data = []\n",
    "    with open(csv_file, 'r', encoding=encoding) as csvfile:\n",
    "        csv_reader = csv.DictReader(csvfile)\n",
    "        for row in csv_reader:\n",
    "            data.append(row)\n",
    "\n",
    "    with open(json_file, 'w', encoding=encoding) as jsonfile:\n",
    "        json.dump(data, jsonfile, indent=4)\n",
    "\n",
    "# Example usage\n",
    "csv_filename = './cities/worldcities.csv'\n",
    "json_filename = './cities/worldcities.json'\n",
    "csv_to_json(csv_filename, json_filename)"
   ]
  },
  {
   "cell_type": "code",
   "execution_count": null,
   "metadata": {},
   "outputs": [],
   "source": []
  }
 ],
 "metadata": {
  "kernelspec": {
   "display_name": "Python 3",
   "language": "python",
   "name": "python3"
  },
  "language_info": {
   "codemirror_mode": {
    "name": "ipython",
    "version": 3
   },
   "file_extension": ".py",
   "mimetype": "text/x-python",
   "name": "python",
   "nbconvert_exporter": "python",
   "pygments_lexer": "ipython3",
   "version": "3.11.9"
  }
 },
 "nbformat": 4,
 "nbformat_minor": 2
}
